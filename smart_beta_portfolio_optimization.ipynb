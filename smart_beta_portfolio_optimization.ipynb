{
  "nbformat": 4,
  "nbformat_minor": 0,
  "metadata": {
    "colab": {
      "private_outputs": true,
      "provenance": [],
      "authorship_tag": "ABX9TyMYmb02Mqt0yKoJZE0SLxXt",
      "include_colab_link": true
    },
    "kernelspec": {
      "name": "python3",
      "display_name": "Python 3"
    },
    "language_info": {
      "name": "python"
    }
  },
  "cells": [
    {
      "cell_type": "markdown",
      "metadata": {
        "id": "view-in-github",
        "colab_type": "text"
      },
      "source": [
        "<a href=\"https://colab.research.google.com/github/AmirGhnbr/smart_beta_portfolio_optimization/blob/main/smart_beta_portfolio_optimization.ipynb\" target=\"_parent\"><img src=\"https://colab.research.google.com/assets/colab-badge.svg\" alt=\"Open In Colab\"/></a>"
      ]
    },
    {
      "cell_type": "code",
      "source": [
        "!pip install cvxpy yfinance"
      ],
      "metadata": {
        "id": "_INHrZQOLpD4"
      },
      "execution_count": null,
      "outputs": []
    },
    {
      "cell_type": "code",
      "execution_count": null,
      "metadata": {
        "id": "c0fVJT3kLPo5"
      },
      "outputs": [],
      "source": [
        "import pandas as pd\n",
        "import numpy as np\n",
        "import cvxpy as cp\n",
        "import yfinance as yf"
      ]
    },
    {
      "cell_type": "code",
      "source": [
        "import yfinance as yf\n",
        "\n",
        "tickers = ['AMZN', 'AAPL', 'MSFT', 'TSLA','GOOGL']\n",
        "start_date = '2020-01-01'\n",
        "end_date = '2020-12-31'\n",
        "\n",
        "data = yf.download(tickers, start=start_date, end=end_date)\n",
        "data.head()"
      ],
      "metadata": {
        "id": "-PmYcl9fRSo-"
      },
      "execution_count": null,
      "outputs": []
    },
    {
      "cell_type": "code",
      "source": [
        "close = data['Adj Close']\n",
        "volume = data['Volume']"
      ],
      "metadata": {
        "id": "11Bkf8eYSLL0"
      },
      "execution_count": null,
      "outputs": []
    },
    {
      "cell_type": "markdown",
      "source": [
        "## Part 1\n",
        "\n",
        "implement market cap index weighted.\n",
        "\n",
        "\n",
        "The index we'll be using is based on large dollar volume stocks."
      ],
      "metadata": {
        "id": "FIfBjrPYYzFs"
      }
    },
    {
      "cell_type": "code",
      "source": [
        "def generate_dollar_volume_weights(close, volume):\n",
        "    \"\"\"\n",
        "    Generate dollar volume weights.\n",
        "\n",
        "    Parameters\n",
        "    ----------\n",
        "    close : DataFrame\n",
        "        Close price for each ticker and date\n",
        "    volume : str\n",
        "        Volume for each ticker and date\n",
        "\n",
        "    Returns\n",
        "    -------\n",
        "    dollar_volume_weights : DataFrame\n",
        "        The dollar volume weights for each ticker and date\n",
        "    \"\"\"\n",
        "    market_cap = close * volume\n",
        "    total_market_cap_date = market_cap.sum(axis=1)\n",
        "    dollar_volume_weights = market_cap.divide(total_market_cap_date,axis='rows')\n",
        "\n",
        "    return dollar_volume_weights"
      ],
      "metadata": {
        "id": "QGto3QfoSfvJ"
      },
      "execution_count": null,
      "outputs": []
    },
    {
      "cell_type": "code",
      "source": [
        "market_cap_index_weight = generate_dollar_volume_weights(close, volume)\n",
        "market_cap_index_weight"
      ],
      "metadata": {
        "id": "qaVCN3x8YZYr"
      },
      "execution_count": null,
      "outputs": []
    },
    {
      "cell_type": "code",
      "source": [],
      "metadata": {
        "id": "7ygMsDCjYe-U"
      },
      "execution_count": null,
      "outputs": []
    }
  ]
}